{
 "cells": [
  {
   "cell_type": "code",
   "execution_count": 67,
   "metadata": {},
   "outputs": [],
   "source": [
    "import pandas as pd\n",
    "import numpy as np"
   ]
  },
  {
   "cell_type": "code",
   "execution_count": 68,
   "metadata": {},
   "outputs": [
    {
     "data": {
      "text/plain": [
       "'2.0.3'"
      ]
     },
     "execution_count": 68,
     "metadata": {},
     "output_type": "execute_result"
    }
   ],
   "source": [
    "# Check Pandas Version\n",
    "pd.__version__"
   ]
  },
  {
   "cell_type": "code",
   "execution_count": 69,
   "metadata": {},
   "outputs": [
    {
     "name": "stderr",
     "output_type": "stream",
     "text": [
      "--2024-09-30 20:36:10--  https://raw.githubusercontent.com/alexeygrigorev/datasets/master/laptops.csv\n",
      "Resolving raw.githubusercontent.com (raw.githubusercontent.com)... 185.199.108.133, 185.199.111.133, 185.199.110.133, ...\n",
      "Connecting to raw.githubusercontent.com (raw.githubusercontent.com)|185.199.108.133|:443... connected.\n",
      "HTTP request sent, awaiting response... 200 OK\n",
      "Length: 298573 (292K) [text/plain]\n",
      "Saving to: 'laptops.csv.4'\n",
      "\n",
      "     0K .......... .......... .......... .......... .......... 17%  454K 1s\n",
      "    50K .......... .......... .......... .......... .......... 34% 1,75M 0s\n",
      "   100K .......... .......... .......... .......... .......... 51%  794K 0s\n",
      "   150K .......... .......... .......... .......... .......... 68% 8,67M 0s\n",
      "   200K .......... .......... .......... .......... .......... 85% 4,08M 0s\n",
      "   250K .......... .......... .......... .......... .         100% 39,9K=1,3s\n",
      "\n",
      "2024-09-30 20:36:11 (231 KB/s) - 'laptops.csv.4' saved [298573/298573]\n",
      "\n"
     ]
    }
   ],
   "source": [
    "# Download Data\n",
    "!wget https://raw.githubusercontent.com/alexeygrigorev/datasets/master/laptops.csv"
   ]
  },
  {
   "cell_type": "code",
   "execution_count": 70,
   "metadata": {},
   "outputs": [
    {
     "name": "stdout",
     "output_type": "stream",
     "text": [
      "<class 'pandas.core.frame.DataFrame'>\n",
      "RangeIndex: 2160 entries, 0 to 2159\n",
      "Data columns (total 12 columns):\n",
      " #   Column        Non-Null Count  Dtype  \n",
      "---  ------        --------------  -----  \n",
      " 0   Laptop        2160 non-null   object \n",
      " 1   Status        2160 non-null   object \n",
      " 2   Brand         2160 non-null   object \n",
      " 3   Model         2160 non-null   object \n",
      " 4   CPU           2160 non-null   object \n",
      " 5   RAM           2160 non-null   int64  \n",
      " 6   Storage       2160 non-null   int64  \n",
      " 7   Storage type  2118 non-null   object \n",
      " 8   GPU           789 non-null    object \n",
      " 9   Screen        2156 non-null   float64\n",
      " 10  Touch         2160 non-null   object \n",
      " 11  Final Price   2160 non-null   float64\n",
      "dtypes: float64(2), int64(2), object(8)\n",
      "memory usage: 202.6+ KB\n"
     ]
    }
   ],
   "source": [
    "# Q2 Records Count\n",
    "\n",
    "data = pd.read_csv('laptops.csv')\n",
    "data.info()"
   ]
  },
  {
   "cell_type": "code",
   "execution_count": 71,
   "metadata": {},
   "outputs": [
    {
     "name": "stdout",
     "output_type": "stream",
     "text": [
      "There are 27 laptop's brands in dataset\n"
     ]
    }
   ],
   "source": [
    "# Q3 Laptop Brands\n",
    "\n",
    "brands = data['Brand'].to_list()\n",
    "unique_brands = np.unique(brands)\n",
    "\n",
    "print(f\"There are {len(unique_brands)} laptop's brands in dataset\")\n"
   ]
  },
  {
   "cell_type": "code",
   "execution_count": 72,
   "metadata": {},
   "outputs": [
    {
     "data": {
      "text/plain": [
       "Laptop             0\n",
       "Status             0\n",
       "Brand              0\n",
       "Model              0\n",
       "CPU                0\n",
       "RAM                0\n",
       "Storage            0\n",
       "Storage type      42\n",
       "GPU             1371\n",
       "Screen             4\n",
       "Touch              0\n",
       "Final Price        0\n",
       "dtype: int64"
      ]
     },
     "execution_count": 72,
     "metadata": {},
     "output_type": "execute_result"
    }
   ],
   "source": [
    "# Q4 Missing Values\n",
    "\n",
    "data.isnull().sum()"
   ]
  },
  {
   "cell_type": "code",
   "execution_count": 73,
   "metadata": {},
   "outputs": [
    {
     "name": "stdout",
     "output_type": "stream",
     "text": [
      " Maximum Price for dell: 3936.0\n"
     ]
    }
   ],
   "source": [
    "# Q5 Maximum Final Price\n",
    "\n",
    "dell_laptop = data[data['Brand']==\"Dell\"]\n",
    "print( f\" Maximum Price for dell: {dell_laptop['Final Price'].max()}\")\n"
   ]
  },
  {
   "cell_type": "code",
   "execution_count": 74,
   "metadata": {},
   "outputs": [
    {
     "name": "stdout",
     "output_type": "stream",
     "text": [
      "Before fillna() Screen median: 15.6\n",
      "After fillna() Screen median: 15.6\n",
      "is median same: True\n"
     ]
    }
   ],
   "source": [
    "# Q6 Mediuan value of screen\n",
    "\n",
    "screen_data = data['Screen']\n",
    "current_median = screen_data.median()\n",
    "\n",
    "current_mode = screen_data.mode()\n",
    "\n",
    "#Use fillna method to fill the missing values in Screen column with the most frequent value from the previous step.\n",
    "clean_screen = screen_data.fillna(current_mode)\n",
    "clean_median = clean_screen.median()\n",
    "\n",
    "print(f\"Before fillna() Screen median: {current_median}\")\n",
    "print(f\"After fillna() Screen median: {clean_median}\")\n",
    "print(f\"is median same: {current_median == clean_median}\")"
   ]
  },
  {
   "cell_type": "code",
   "execution_count": 102,
   "metadata": {},
   "outputs": [
    {
     "data": {
      "text/plain": [
       "91.2998806299555"
      ]
     },
     "execution_count": 102,
     "metadata": {},
     "output_type": "execute_result"
    }
   ],
   "source": [
    "# Q7 Sum of weight\n",
    "innjoo_laptop = data[data['Brand']==\"Innjoo\"]\n",
    "specs_innjoo = innjoo_laptop[['RAM', \"Storage\", \"Screen\"]]\n",
    "\n",
    "X = np.array(specs_innjoo)\n",
    "\n",
    "XTX = X.T @ X\n",
    "XTX_inv = np.linalg.inv(XTX)\n",
    "y = np.array([1100, 1300, 800, 900, 1000, 1100])\n",
    "\n",
    "# Compute the result w\n",
    "w = XTX_inv @ X.T @ y\n",
    "np.sum(w)"
   ]
  }
 ],
 "metadata": {
  "interpreter": {
   "hash": "9ce43836c8d3287a06e199a1efd6974587c1d8c7cdf961feda0708cd09e2869c"
  },
  "kernelspec": {
   "display_name": "Python 3.8.10 64-bit",
   "language": "python",
   "name": "python3"
  },
  "language_info": {
   "codemirror_mode": {
    "name": "ipython",
    "version": 3
   },
   "file_extension": ".py",
   "mimetype": "text/x-python",
   "name": "python",
   "nbconvert_exporter": "python",
   "pygments_lexer": "ipython3",
   "version": "3.8.10"
  },
  "orig_nbformat": 4
 },
 "nbformat": 4,
 "nbformat_minor": 2
}
